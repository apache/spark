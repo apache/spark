{
 "cells": [
  {
   "attachments": {},
   "cell_type": "markdown",
   "metadata": {
    "application/vnd.databricks.v1+cell": {
     "cellMetadata": {
      "byteLimit": 2048000,
      "rowLimit": 10000
     },
     "inputWidgets": {},
     "nuid": "42a74618-9a43-4f03-9c3c-a63380f23e75",
     "showTitle": false,
     "tableResultSettingsMap": {},
     "title": ""
    }
   },
   "source": [
    "# Chapter 5: Unleashing UDFs & UDTFs\n",
    "\n",
    "In large-scale data processing, customization is often necessary to extend the native capabilities of Spark. *Python User-Defined Functions (UDFs)* and *User-Defined Table Functions (UDTFs)* offer a way to perform complex transformations and computations using Python, seamlessly integrating them into Spark’s distributed environment.\n",
    "\n",
    "In this section, we’ll explore how to write and use UDFs and UDTFs in Python, leveraging PySpark to perform complex data transformations that go beyond Spark’s built-in functions."
   ]
  },
  {
   "attachments": {},
   "cell_type": "markdown",
   "metadata": {
    "application/vnd.databricks.v1+cell": {
     "cellMetadata": {
      "byteLimit": 2048000,
      "rowLimit": 10000
     },
     "inputWidgets": {},
     "nuid": "acc11405-3fdd-4309-90c0-08af0b2015a0",
     "showTitle": false,
     "tableResultSettingsMap": {},
     "title": ""
    }
   },
   "source": [
    "## Python UDFs"
   ]
  },
  {
   "attachments": {},
   "cell_type": "markdown",
   "metadata": {
    "application/vnd.databricks.v1+cell": {
     "cellMetadata": {
      "byteLimit": 2048000,
      "rowLimit": 10000
     },
     "inputWidgets": {},
     "nuid": "2c3818be-4c83-4a80-9c6f-ca3a7197a651",
     "showTitle": false,
     "tableResultSettingsMap": {},
     "title": ""
    }
   },
   "source": [
    "### Categories of Python UDFs\n",
    "\n",
    "There are two main categories of UDFs supported in PySpark: Scalar Python UDFs and Pandas UDFs.\n",
    "\n",
    "- *Scalar Python UDFs* are user-defined scalar functions that take or return Python objects serialized/deserialized by [pickle](https://python.readthedocs.io/en/latest/library/pickle.html) or [Arrow](https://arrow.readthedocs.io/en/latest/) and operate one row at a time\n",
    "- *Pandas UDFs* (a.k.a. Vectorized UDFs) are UDFs that take/return pandas Series or DataFrame serialized/deserialized by Apache Arrow and operate block by block. Pandas UDFs have some variations categorized by usage, with specific input and output types: Series to Series, Series to Scalar, and Iterator to Iterator.\n",
    "\n",
    "Based on Pandas UDFs implementation, there are also *Pandas Function APIs*: Map (i.e., `mapInPandas`) and (Co)Grouped Map (i.e., `applyInPandas`), as well as an Arrow Function API - `mapInArrow`."
   ]
  },
  {
   "attachments": {},
   "cell_type": "markdown",
   "metadata": {
    "application/vnd.databricks.v1+cell": {
     "cellMetadata": {
      "byteLimit": 2048000,
      "rowLimit": 10000
     },
     "inputWidgets": {},
     "nuid": "192eeb2f-8f3e-41fd-922c-9b024705233e",
     "showTitle": false,
     "tableResultSettingsMap": {},
     "title": ""
    }
   },
   "source": [
    "### To create a Scalar Python UDF"
   ]
  },
  {
   "attachments": {},
   "cell_type": "markdown",
   "metadata": {
    "application/vnd.databricks.v1+cell": {
     "cellMetadata": {
      "byteLimit": 2048000,
      "rowLimit": 10000
     },
     "inputWidgets": {},
     "nuid": "27aec808-13e8-4127-adb4-37dae1db057e",
     "showTitle": false,
     "tableResultSettingsMap": {},
     "title": ""
    }
   },
   "source": [
    "In the code below, we've created a simple scalar Python UDF."
   ]
  },
  {
   "cell_type": "code",
   "execution_count": 6,
   "metadata": {
    "application/vnd.databricks.v1+cell": {
     "cellMetadata": {
      "byteLimit": 2048000,
      "rowLimit": 10000
     },
     "inputWidgets": {},
     "nuid": "c41a09f4-5762-4e44-acb1-706aae7158c8",
     "showTitle": false,
     "tableResultSettingsMap": {},
     "title": ""
    }
   },
   "outputs": [],
   "source": [
    "from pyspark.sql.functions import udf\n",
    "\n",
    "@udf(returnType='int')\n",
    "def slen(s: str):\n",
    "    return len(s)"
   ]
  },
  {
   "attachments": {},
   "cell_type": "markdown",
   "metadata": {
    "application/vnd.databricks.v1+cell": {
     "cellMetadata": {
      "byteLimit": 2048000,
      "rowLimit": 10000
     },
     "inputWidgets": {},
     "nuid": "6bf375ec-4340-4cdc-8eb9-eed8fd0b83dc",
     "showTitle": false,
     "tableResultSettingsMap": {},
     "title": ""
    }
   },
   "source": [
    "#### Arrow optimization\n",
    "\n",
    "Scalar Python UDFs rely on [cloudpickle](https://pypi.org/project/cloudpickle/) for serialization and deserialization, and encounter performance bottlenecks, particularly when dealing with large data inputs and outputs. We introduce Arrow-optimized Python UDFs to significantly improve performance. \n",
    "\n",
    "At the core of this optimization lies Apache Arrow, a standardized cross-language columnar in-memory data representation. By harnessing Arrow, these UDFs bypass the traditional, slower methods of data (de)serialization, leading to swift data exchange between JVM and Python processes. With Apache Arrow's rich type system, these optimized UDFs offer a more consistent and standardized way to handle type coercion.\n",
    "\n",
    "We can control whether or not to enable Arrow optimization for individual UDFs by using the `useArrow` boolean parameter of `functions.udf`. An example is as shown below:\n",
    "\n",
    "```py\n",
    "from pyspark.sql.functions import udf\n",
    "\n",
    "@udf(returnType='int', useArrow=True)  # An Arrow Python UDF\n",
    "def arrow_slen(s: str):\n",
    "    ...\n",
    "```\n",
    "\n",
    "In addition, we can enable Arrow optimization for all UDFs of an entire SparkSession via a Spark configuration: `spark.sql.execution.pythonUDF.arrow.enabled`, as shown below:\n",
    "\n",
    "```py\n",
    "spark.conf.set(\"spark.sql.execution.pythonUDF.arrow.enabled\", True)\n",
    "\n",
    "@udf(returnType='int')  # An Arrow Python UDF\n",
    "def arrow_slen(s: str):\n",
    "    ...\n",
    "```"
   ]
  },
  {
   "attachments": {},
   "cell_type": "markdown",
   "metadata": {
    "application/vnd.databricks.v1+cell": {
     "cellMetadata": {
      "byteLimit": 2048000,
      "rowLimit": 10000
     },
     "inputWidgets": {},
     "nuid": "0f131ffd-29da-458d-9281-17225e028ba5",
     "showTitle": false,
     "tableResultSettingsMap": {},
     "title": ""
    }
   },
   "source": [
    "### To use a Scalar Python UDF\n",
    "\n",
    "In Python, we can invoke a UDF directly on column(s), just like a built-in Spark function, as shown below."
   ]
  },
  {
   "cell_type": "code",
   "execution_count": 7,
   "metadata": {
    "application/vnd.databricks.v1+cell": {
     "cellMetadata": {
      "byteLimit": 2048000,
      "rowLimit": 10000
     },
     "inputWidgets": {},
     "nuid": "61da08a0-89f0-419e-8cfc-46916c518a31",
     "showTitle": false,
     "tableResultSettingsMap": {},
     "title": ""
    }
   },
   "outputs": [
    {
     "name": "stderr",
     "output_type": "stream",
     "text": [
      "                                                                                \r"
     ]
    },
    {
     "name": "stdout",
     "output_type": "stream",
     "text": [
      "+-------+-----------+\n",
      "|   name|name_length|\n",
      "+-------+-----------+\n",
      "|  Alice|          5|\n",
      "|    Bob|          3|\n",
      "|Charlie|          7|\n",
      "+-------+-----------+\n",
      "\n"
     ]
    }
   ],
   "source": [
    "data = [(\"Alice\",), (\"Bob\",), (\"Charlie\",)]\n",
    "df = spark.createDataFrame(data, [\"name\"])\n",
    "df.withColumn(\"name_length\", slen(df[\"name\"])).show()"
   ]
  },
  {
   "attachments": {},
   "cell_type": "markdown",
   "metadata": {
    "application/vnd.databricks.v1+cell": {
     "cellMetadata": {
      "byteLimit": 2048000,
      "rowLimit": 10000
     },
     "inputWidgets": {},
     "nuid": "9789ada1-28cb-411d-bb0a-abe28e1c5c6b",
     "showTitle": false,
     "tableResultSettingsMap": {},
     "title": ""
    }
   },
   "source": [
    "### To create a Pandas UDF\n",
    "\n",
    "In the code below, we've created a Pandas UDF which takes one `pandas.Series` and outputs one `pandas.Series`"
   ]
  },
  {
   "cell_type": "code",
   "execution_count": 8,
   "metadata": {
    "application/vnd.databricks.v1+cell": {
     "cellMetadata": {
      "byteLimit": 2048000,
      "rowLimit": 10000
     },
     "inputWidgets": {},
     "nuid": "fe3d9287-6d79-4b3a-ac3c-0827a9cd3ac3",
     "showTitle": false,
     "tableResultSettingsMap": {},
     "title": ""
    }
   },
   "outputs": [
    {
     "name": "stdout",
     "output_type": "stream",
     "text": [
      "+--------------+\n",
      "|to_upper(name)|\n",
      "+--------------+\n",
      "|      JOHN DOE|\n",
      "+--------------+\n",
      "\n"
     ]
    }
   ],
   "source": [
    "import pandas as pd\n",
    "from pyspark.sql.functions import pandas_udf\n",
    "\n",
    "@pandas_udf(\"string\")\n",
    "def to_upper(s: pd.Series) -> pd.Series:\n",
    "    return s.str.upper()\n",
    "\n",
    "df = spark.createDataFrame([(\"John Doe\",)], (\"name\",))\n",
    "df.select(to_upper(\"name\")).show()\n"
   ]
  },
  {
   "attachments": {},
   "cell_type": "markdown",
   "metadata": {
    "application/vnd.databricks.v1+cell": {
     "cellMetadata": {
      "byteLimit": 2048000,
      "rowLimit": 10000
     },
     "inputWidgets": {},
     "nuid": "c2930070-349c-4510-bba1-e58c9c0c5db5",
     "showTitle": false,
     "tableResultSettingsMap": {},
     "title": ""
    }
   },
   "source": [
    "### To use a Pandas UDF\n",
    "\n",
    "Similar to a Scalar Python UDF, we can also invoke a pandas UDF directly on column(s):"
   ]
  },
  {
   "cell_type": "code",
   "execution_count": 9,
   "metadata": {
    "application/vnd.databricks.v1+cell": {
     "cellMetadata": {
      "byteLimit": 2048000,
      "rowLimit": 10000
     },
     "inputWidgets": {},
     "nuid": "b770a716-7c7d-4e84-826e-34ebfab896bb",
     "showTitle": false,
     "tableResultSettingsMap": {},
     "title": ""
    }
   },
   "outputs": [
    {
     "name": "stdout",
     "output_type": "stream",
     "text": [
      "+-------+-----------+\n",
      "|   name|name_length|\n",
      "+-------+-----------+\n",
      "|  Alice|      ALICE|\n",
      "|    Bob|        BOB|\n",
      "|Charlie|    CHARLIE|\n",
      "+-------+-----------+\n",
      "\n"
     ]
    }
   ],
   "source": [
    "data = [(\"Alice\",), (\"Bob\",), (\"Charlie\",)]\n",
    "df = spark.createDataFrame(data, [\"name\"])\n",
    "df.withColumn(\"name_length\", to_upper(df[\"name\"])).show()"
   ]
  },
  {
   "attachments": {},
   "cell_type": "markdown",
   "metadata": {
    "application/vnd.databricks.v1+cell": {
     "cellMetadata": {
      "byteLimit": 2048000,
      "rowLimit": 10000
     },
     "inputWidgets": {},
     "nuid": "903d4963-7d2b-4e6b-aecb-c1b012a66a34",
     "showTitle": false,
     "tableResultSettingsMap": {},
     "title": ""
    }
   },
   "source": [
    "### More Examples\n",
    "\n",
    "#### Example 1: Python UDF to Process DataFrame with String and List Columns"
   ]
  },
  {
   "cell_type": "code",
   "execution_count": 10,
   "metadata": {
    "application/vnd.databricks.v1+cell": {
     "cellMetadata": {
      "byteLimit": 2048000,
      "rowLimit": 10000
     },
     "inputWidgets": {},
     "nuid": "f041c492-eb98-4233-9b6e-ea6f580036ce",
     "showTitle": false,
     "tableResultSettingsMap": {},
     "title": ""
    }
   },
   "outputs": [
    {
     "name": "stdout",
     "output_type": "stream",
     "text": [
      "+--------------+-----------+--------------------------------+\n",
      "|text_column   |list_column|process_row                     |\n",
      "+--------------+-----------+--------------------------------+\n",
      "|Hello World   |[1, 2, 3]  |Vowels: 3, Doubled: [2, 4, 6]   |\n",
      "|PySpark is Fun|[4, 5, 6]  |Vowels: 3, Doubled: [8, 10, 12] |\n",
      "|PySpark Rocks |[7, 8, 9]  |Vowels: 2, Doubled: [14, 16, 18]|\n",
      "+--------------+-----------+--------------------------------+\n",
      "\n"
     ]
    }
   ],
   "source": [
    "from pyspark.sql.types import ArrayType, IntegerType, StringType\n",
    "from pyspark.sql.functions import udf\n",
    "\n",
    "data = [\n",
    "    (\"Hello World\", [1, 2, 3]),\n",
    "    (\"PySpark is Fun\", [4, 5, 6]),\n",
    "    (\"PySpark Rocks\", [7, 8, 9])\n",
    "]\n",
    "df = spark.createDataFrame(data, [\"text_column\", \"list_column\"])\n",
    "\n",
    "@udf(returnType=\"string\")\n",
    "def process_row(text: str, numbers):\n",
    "    vowels_count = sum(1 for char in text if char in \"aeiouAEIOU\")\n",
    "    doubled = [x * 2 for x in numbers]\n",
    "    return f\"Vowels: {vowels_count}, Doubled: {doubled}\"\n",
    "\n",
    "df.withColumn(\"process_row\", process_row(df[\"text_column\"], df[\"list_column\"])).show(truncate=False)"
   ]
  },
  {
   "attachments": {},
   "cell_type": "markdown",
   "metadata": {
    "application/vnd.databricks.v1+cell": {
     "cellMetadata": {
      "byteLimit": 2048000,
      "rowLimit": 10000
     },
     "inputWidgets": {},
     "nuid": "1a45ed0d-934d-451f-a259-e41696107e98",
     "showTitle": false,
     "tableResultSettingsMap": {},
     "title": ""
    }
   },
   "source": [
    "#### Example 2: Pandas UDF for Statistical Computations and Complex Transformation"
   ]
  },
  {
   "cell_type": "code",
   "execution_count": 11,
   "metadata": {
    "application/vnd.databricks.v1+cell": {
     "cellMetadata": {
      "byteLimit": 2048000,
      "rowLimit": 10000
     },
     "inputWidgets": {},
     "nuid": "ad7d9ccc-4b08-48b0-854b-78529e7789b3",
     "showTitle": false,
     "tableResultSettingsMap": {},
     "title": ""
    }
   },
   "outputs": [
    {
     "name": "stdout",
     "output_type": "stream",
     "text": [
      "+--------------+----------------+------------------------------+\n",
      "|numeric_column|text_column     |result                        |\n",
      "+--------------+----------------+------------------------------+\n",
      "|10.0          |Spark           |{10.0, 10.0, SPARK}           |\n",
      "|20.0          |Big Data        |{20.0, 20.0, ataD giB}        |\n",
      "|30.0          |AI              |{30.0, 30.0, AI}              |\n",
      "|40.0          |Machine Learning|{40.0, 40.0, gninraeL enihcaM}|\n",
      "|50.0          |Deep Learning   |{50.0, 50.0, gninraeL peeD}   |\n",
      "+--------------+----------------+------------------------------+\n",
      "\n"
     ]
    }
   ],
   "source": [
    "from pyspark.sql import SparkSession\n",
    "from pyspark.sql.functions import pandas_udf\n",
    "from pyspark.sql.types import StructType, StructField, DoubleType, StringType\n",
    "import pandas as pd\n",
    "\n",
    "data = [\n",
    "    (10.0, \"Spark\"),\n",
    "    (20.0, \"Big Data\"),\n",
    "    (30.0, \"AI\"),\n",
    "    (40.0, \"Machine Learning\"),\n",
    "    (50.0, \"Deep Learning\")\n",
    "]\n",
    "df = spark.createDataFrame(data, [\"numeric_column\", \"text_column\"])\n",
    "\n",
    "# Schema for the result\n",
    "schema = StructType([\n",
    "    StructField(\"mean_value\", DoubleType(), True),\n",
    "    StructField(\"sum_value\", DoubleType(), True),\n",
    "    StructField(\"processed_text\", StringType(), True)\n",
    "])\n",
    "\n",
    "@pandas_udf(schema)\n",
    "def compute_stats_and_transform_string(numeric_col: pd.Series, text_col: pd.Series) -> pd.DataFrame:\n",
    "    mean_value = numeric_col.mean()\n",
    "    sum_value = numeric_col.sum()\n",
    "\n",
    "    # Reverse the string if its length is greater than 5, otherwise capitalize it\n",
    "    processed_text = text_col.apply(lambda x: x[::-1] if len(x) > 5 else x.upper())\n",
    "\n",
    "    result_df = pd.DataFrame({\n",
    "        \"mean_value\": [mean_value] * len(text_col),\n",
    "        \"sum_value\": [sum_value] * len(text_col),\n",
    "        \"processed_text\": processed_text\n",
    "    })\n",
    "    \n",
    "    return result_df\n",
    "\n",
    "df.withColumn(\"result\", compute_stats_and_transform_string(df[\"numeric_column\"], df[\"text_column\"])).show(truncate=False)"
   ]
  },
  {
   "attachments": {},
   "cell_type": "markdown",
   "metadata": {
    "application/vnd.databricks.v1+cell": {
     "cellMetadata": {
      "byteLimit": 2048000,
      "rowLimit": 10000
     },
     "inputWidgets": {},
     "nuid": "a536afc7-d343-4ebf-b44a-ee94a5dd1cb0",
     "showTitle": false,
     "tableResultSettingsMap": {},
     "title": ""
    }
   },
   "source": [
    "## Python UDTFs\n",
    "\n",
    "A Python user-defined table function (UDTF) is a new kind of function that returns a table as output instead of a single scalar result value. Once registered, they can appear in the FROM clause of a SQL query.\n"
   ]
  },
  {
   "attachments": {},
   "cell_type": "markdown",
   "metadata": {
    "application/vnd.databricks.v1+cell": {
     "cellMetadata": {
      "byteLimit": 2048000,
      "rowLimit": 10000
     },
     "inputWidgets": {},
     "nuid": "ddd5a76e-0339-4a07-b957-cfef51d2e5e1",
     "showTitle": false,
     "tableResultSettingsMap": {},
     "title": ""
    }
   },
   "source": [
    "### When to use Python UDTFs\n",
    "\n",
    "In short, if you want a function that generates multiple rows and columns, and want to leverage the rich Python ecosystem, Python UDTFs are for you.\n",
    "\n",
    "- **Python UDTFs vs Python UDFs**: While Python UDFs in Spark are designed to each accept zero or more scalar values as input, and return a single value as output, UDTFs offer more flexibility. They can return multiple rows and columns, extending the capabilities of UDFs. Here are a few scenarios where UDTFs are particularly helpful:\n",
    "\n",
    "    - Exploding nested data types like arrays or structs, transforming it into multiple rows\n",
    "    - Dealing with string data that needs to be split into multiple parts, each represented as a separate row or multiple columns\n",
    "    - Generating rows based on input ranges, such as creating sequences of numbers, timestamps, or records for different dates\n",
    "\n",
    "- **Python UDTFs vs SQL UDTFs**: SQL UDTFs are efficient and versatile, but Python offers a richer set of libraries and tools. Compared to SQL, Python provides tools to enable advanced transformations or computations (e.g. statistical functions or machine learning inferences)."
   ]
  },
  {
   "attachments": {},
   "cell_type": "markdown",
   "metadata": {
    "application/vnd.databricks.v1+cell": {
     "cellMetadata": {
      "byteLimit": 2048000,
      "rowLimit": 10000
     },
     "inputWidgets": {},
     "nuid": "2c1f1457-8bb5-4d50-b896-3d6717036b4a",
     "showTitle": false,
     "tableResultSettingsMap": {},
     "title": ""
    }
   },
   "source": [
    "### To create a Python UDTF\n",
    "\n",
    "In the code below, we've created a simple UDTF that takes two integers as inputs and produces two columns as output: the original number and its square.\n",
    "\n",
    "Note the use of the `yield` statement; A Python UDTF requires the return type to be either a tuple or a Row object so that the results can be processed properly.\n",
    "\n",
    "Also note the return type must be a `StructType `with block-formatting or DDL string representing a `StructType` with block-formatting in Spark."
   ]
  },
  {
   "cell_type": "code",
   "execution_count": 12,
   "metadata": {
    "application/vnd.databricks.v1+cell": {
     "cellMetadata": {
      "byteLimit": 2048000,
      "rowLimit": 10000
     },
     "inputWidgets": {},
     "nuid": "d1a18cf6-3680-4c88-900c-98e232071467",
     "showTitle": false,
     "tableResultSettingsMap": {},
     "title": ""
    }
   },
   "outputs": [],
   "source": [
    "from pyspark.sql.functions import udtf\n",
    "\n",
    "@udtf(returnType=\"num: int, squared: int\")\n",
    "class SquareNumbers:\n",
    "    def eval(self, start: int, end: int):\n",
    "        for num in range(start, end + 1):\n",
    "            yield (num, num * num)"
   ]
  },
  {
   "attachments": {},
   "cell_type": "markdown",
   "metadata": {
    "application/vnd.databricks.v1+cell": {
     "cellMetadata": {
      "byteLimit": 2048000,
      "rowLimit": 10000
     },
     "inputWidgets": {},
     "nuid": "689c7037-c9a1-404f-8452-ab51cfe207d9",
     "showTitle": false,
     "tableResultSettingsMap": {},
     "title": ""
    }
   },
   "source": [
    "#### Arrow optimization\n",
    "\n",
    "Apache Arrow is an in-memory columnar data format that allows for efficient data transfers between Java and Python processes. It can significantly boost performance when the UDTF outputs many rows. Arrow-optimization can be enabled using `useArrow=True`, for example, \n",
    "\n",
    "```py\n",
    "from pyspark.sql.functions import udtf\n",
    "\n",
    "@udtf(returnType=\"num: int, squared: int\", useArrow=True)\n",
    "class SquareNumbers:\n",
    "    ...\n",
    "```"
   ]
  },
  {
   "attachments": {},
   "cell_type": "markdown",
   "metadata": {
    "application/vnd.databricks.v1+cell": {
     "cellMetadata": {
      "byteLimit": 2048000,
      "rowLimit": 10000
     },
     "inputWidgets": {},
     "nuid": "b8df8c4c-e020-461c-8a24-db03ef692ee1",
     "showTitle": false,
     "tableResultSettingsMap": {},
     "title": ""
    }
   },
   "source": [
    "### To use a Python UDTF\n",
    "\n",
    "In Python, we can invoke a UDTF directly using the class name, as shown below."
   ]
  },
  {
   "cell_type": "code",
   "execution_count": 13,
   "metadata": {
    "application/vnd.databricks.v1+cell": {
     "cellMetadata": {
      "byteLimit": 2048000,
      "rowLimit": 10000
     },
     "inputWidgets": {},
     "nuid": "f0c91bd8-81e1-431c-bd71-34bcfe09a4e0",
     "showTitle": false,
     "tableResultSettingsMap": {},
     "title": ""
    }
   },
   "outputs": [
    {
     "name": "stdout",
     "output_type": "stream",
     "text": [
      "+---+-------+\n",
      "|num|squared|\n",
      "+---+-------+\n",
      "|  1|      1|\n",
      "|  2|      4|\n",
      "|  3|      9|\n",
      "+---+-------+\n",
      "\n"
     ]
    }
   ],
   "source": [
    "from pyspark.sql.functions import lit\n",
    "\n",
    "SquareNumbers(lit(1), lit(3)).show()"
   ]
  },
  {
   "attachments": {},
   "cell_type": "markdown",
   "metadata": {
    "application/vnd.databricks.v1+cell": {
     "cellMetadata": {
      "byteLimit": 2048000,
      "rowLimit": 10000
     },
     "inputWidgets": {},
     "nuid": "073f65fb-8ece-40e5-a739-753c58eed95a",
     "showTitle": false,
     "tableResultSettingsMap": {},
     "title": ""
    }
   },
   "source": [
    "In SQL, we can register the Python UDTF and then use it in SQL as a table-valued function in the FROM clause of a query.\n",
    "```\n",
    "spark.sql(\"SELECT * FROM square_numbers(1, 3)\").show()\n",
    "```"
   ]
  },
  {
   "attachments": {},
   "cell_type": "markdown",
   "metadata": {
    "application/vnd.databricks.v1+cell": {
     "cellMetadata": {
      "byteLimit": 2048000,
      "rowLimit": 10000
     },
     "inputWidgets": {},
     "nuid": "bec8df7c-0918-4359-8f4e-50a520af0238",
     "showTitle": false,
     "tableResultSettingsMap": {},
     "title": ""
    }
   },
   "source": [
    "### More Examples\n",
    "\n",
    "#### Example 1: Generating Numbers, Their Squares, Cubes, and Factorials for a Range"
   ]
  },
  {
   "cell_type": "code",
   "execution_count": 14,
   "metadata": {
    "application/vnd.databricks.v1+cell": {
     "cellMetadata": {
      "byteLimit": 2048000,
      "rowLimit": 10000
     },
     "inputWidgets": {},
     "nuid": "e8f7a6da-715e-4289-be94-14093b5b7cbf",
     "showTitle": false,
     "tableResultSettingsMap": {},
     "title": ""
    }
   },
   "outputs": [
    {
     "name": "stdout",
     "output_type": "stream",
     "text": [
      "+---+------+----+---------+\n",
      "|num|square|cube|factorial|\n",
      "+---+------+----+---------+\n",
      "|  1|     1|   1|        1|\n",
      "|  2|     4|   8|        2|\n",
      "|  3|     9|  27|        6|\n",
      "|  4|    16|  64|       24|\n",
      "|  5|    25| 125|      120|\n",
      "+---+------+----+---------+\n",
      "\n"
     ]
    }
   ],
   "source": [
    "from pyspark.sql.functions import lit, udtf\n",
    "import math\n",
    "\n",
    "@udtf(returnType=\"num: int, square: int, cube: int, factorial: int\")\n",
    "class GenerateComplexNumbers:\n",
    "    def eval(self, start: int, end: int):\n",
    "        for num in range(start, end + 1):\n",
    "            yield (num, num ** 2, num ** 3, math.factorial(num))\n",
    "\n",
    "GenerateComplexNumbers(lit(1), lit(5)).show()"
   ]
  },
  {
   "attachments": {},
   "cell_type": "markdown",
   "metadata": {
    "application/vnd.databricks.v1+cell": {
     "cellMetadata": {
      "byteLimit": 2048000,
      "rowLimit": 10000
     },
     "inputWidgets": {},
     "nuid": "6bdebf07-03c3-43b3-b228-ebf435dfee96",
     "showTitle": false,
     "tableResultSettingsMap": {},
     "title": ""
    }
   },
   "source": [
    "#### Example 2: Splitting a Sentence into Words and Performing Multiple Operations"
   ]
  },
  {
   "cell_type": "code",
   "execution_count": 15,
   "metadata": {
    "application/vnd.databricks.v1+cell": {
     "cellMetadata": {
      "byteLimit": 2048000,
      "rowLimit": 10000
     },
     "inputWidgets": {},
     "nuid": "c1843700-2434-47a0-88bf-dce3a6de9ce6",
     "showTitle": false,
     "tableResultSettingsMap": {},
     "title": ""
    }
   },
   "outputs": [
    {
     "name": "stdout",
     "output_type": "stream",
     "text": [
      "+-----+------+-------------+\n",
      "| word|length|is_palindrome|\n",
      "+-----+------+-------------+\n",
      "|hello|     5|        false|\n",
      "|world|     5|        false|\n",
      "+-----+------+-------------+\n",
      "\n"
     ]
    }
   ],
   "source": [
    "from pyspark.sql.functions import lit, udtf\n",
    "\n",
    "@udtf(returnType=\"word: string, length: int, is_palindrome: boolean\")\n",
    "class ProcessWords:\n",
    "    def eval(self, sentence: str):\n",
    "        words = sentence.split()  # Split sentence into words\n",
    "        for word in words:\n",
    "            is_palindrome = word == word[::-1]  # Check if the word is a palindrome\n",
    "            yield (word, len(word), is_palindrome)\n",
    "\n",
    "ProcessWords(lit(\"hello world\")).show()"
   ]
  },
  {
   "attachments": {},
   "cell_type": "markdown",
   "metadata": {
    "application/vnd.databricks.v1+cell": {
     "cellMetadata": {
      "byteLimit": 2048000,
      "rowLimit": 10000
     },
     "inputWidgets": {},
     "nuid": "f8ac11f5-10d0-4ae2-b40d-dc422aa9270e",
     "showTitle": false,
     "tableResultSettingsMap": {},
     "title": ""
    }
   },
   "source": [
    "#### Example 3: Parsing JSON String into Key-Value Pairs with Data Types"
   ]
  },
  {
   "cell_type": "code",
   "execution_count": 16,
   "metadata": {
    "application/vnd.databricks.v1+cell": {
     "cellMetadata": {
      "byteLimit": 2048000,
      "rowLimit": 10000
     },
     "inputWidgets": {},
     "nuid": "51b6a7a5-0956-4da4-a099-010ac01cd3f1",
     "showTitle": false,
     "tableResultSettingsMap": {},
     "title": ""
    }
   },
   "outputs": [
    {
     "name": "stdout",
     "output_type": "stream",
     "text": [
      "+----------+-----+----------+\n",
      "|       key|value|value_type|\n",
      "+----------+-----+----------+\n",
      "|      name|Alice|       str|\n",
      "|       age|   25|       int|\n",
      "|is_student|False|      bool|\n",
      "+----------+-----+----------+\n",
      "\n"
     ]
    }
   ],
   "source": [
    "import json\n",
    "from pyspark.sql.functions import lit, udtf\n",
    "\n",
    "@udtf(returnType=\"key: string, value: string, value_type: string\")\n",
    "class ParseJSON:\n",
    "    def eval(self, json_str: str):\n",
    "        try:\n",
    "            json_data = json.loads(json_str)\n",
    "            for key, value in json_data.items():\n",
    "                value_type = type(value).__name__\n",
    "                yield (key, str(value), value_type)\n",
    "        except json.JSONDecodeError:\n",
    "            yield (\"Invalid JSON\", \"\", \"\")\n",
    "\n",
    "ParseJSON(lit('{\"name\": \"Alice\", \"age\": 25, \"is_student\": false}')).show()"
   ]
  }
 ],
 "metadata": {
  "application/vnd.databricks.v1+notebook": {
   "dashboards": [],
   "environmentMetadata": null,
   "language": "python",
   "notebookMetadata": {
    "pythonIndentUnit": 2
   },
   "notebookName": "10-pythonudfsandudtfs",
   "widgets": {}
  },
  "kernelspec": {
   "display_name": "",
   "language": "python",
   "name": ""
  },
  "language_info": {
   "codemirror_mode": {
    "name": "ipython",
    "version": 3
   },
   "file_extension": ".py",
   "mimetype": "text/x-python",
   "name": "python",
   "nbconvert_exporter": "python",
   "pygments_lexer": "ipython3",
   "version": "3.11.4"
  }
 },
 "nbformat": 4,
 "nbformat_minor": 0
}
